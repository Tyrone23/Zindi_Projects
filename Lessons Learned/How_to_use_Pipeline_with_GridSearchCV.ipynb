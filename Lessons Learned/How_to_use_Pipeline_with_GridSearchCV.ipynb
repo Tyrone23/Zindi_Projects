{
 "cells": [
  {
   "cell_type": "markdown",
   "id": "67d58d32",
   "metadata": {},
   "source": [
    "# How Pipeline and GridSearchCV work together"
   ]
  },
  {
   "cell_type": "code",
   "execution_count": 53,
   "id": "eaf4e433",
   "metadata": {},
   "outputs": [],
   "source": [
    "from sklearn.compose import ColumnTransformer\n",
    "from sklearn.pipeline import Pipeline\n",
    "from sklearn.impute import SimpleImputer\n",
    "from sklearn.preprocessing import OneHotEncoder\n",
    "from sklearn.preprocessing import StandardScaler\n",
    "\n",
    "import pandas as pd"
   ]
  },
  {
   "cell_type": "markdown",
   "id": "29d90a67",
   "metadata": {},
   "source": [
    "## Load and Prepare Training Set"
   ]
  },
  {
   "cell_type": "code",
   "execution_count": 35,
   "id": "fb262da6",
   "metadata": {},
   "outputs": [
    {
     "data": {
      "text/html": [
       "<div>\n",
       "<style scoped>\n",
       "    .dataframe tbody tr th:only-of-type {\n",
       "        vertical-align: middle;\n",
       "    }\n",
       "\n",
       "    .dataframe tbody tr th {\n",
       "        vertical-align: top;\n",
       "    }\n",
       "\n",
       "    .dataframe thead th {\n",
       "        text-align: right;\n",
       "    }\n",
       "</style>\n",
       "<table border=\"1\" class=\"dataframe\">\n",
       "  <thead>\n",
       "    <tr style=\"text-align: right;\">\n",
       "      <th></th>\n",
       "      <th>ID</th>\n",
       "      <th>Policy Start Date</th>\n",
       "      <th>Policy End Date</th>\n",
       "      <th>Gender</th>\n",
       "      <th>Age</th>\n",
       "      <th>First Transaction Date</th>\n",
       "      <th>No_Pol</th>\n",
       "      <th>Car_Category</th>\n",
       "      <th>Subject_Car_Colour</th>\n",
       "      <th>Subject_Car_Make</th>\n",
       "      <th>LGA_Name</th>\n",
       "      <th>State</th>\n",
       "      <th>ProductName</th>\n",
       "      <th>target</th>\n",
       "    </tr>\n",
       "  </thead>\n",
       "  <tbody>\n",
       "    <tr>\n",
       "      <th>0</th>\n",
       "      <td>ID_0040R73</td>\n",
       "      <td>2010-05-14</td>\n",
       "      <td>2011-05-13</td>\n",
       "      <td>Male</td>\n",
       "      <td>30</td>\n",
       "      <td>2010-05-14</td>\n",
       "      <td>1</td>\n",
       "      <td>Saloon</td>\n",
       "      <td>Black</td>\n",
       "      <td>TOYOTA</td>\n",
       "      <td>NaN</td>\n",
       "      <td>NaN</td>\n",
       "      <td>Car Classic</td>\n",
       "      <td>0</td>\n",
       "    </tr>\n",
       "    <tr>\n",
       "      <th>1</th>\n",
       "      <td>ID_0046BNK</td>\n",
       "      <td>2010-11-29</td>\n",
       "      <td>2011-11-28</td>\n",
       "      <td>Female</td>\n",
       "      <td>79</td>\n",
       "      <td>2010-11-29</td>\n",
       "      <td>1</td>\n",
       "      <td>JEEP</td>\n",
       "      <td>Grey</td>\n",
       "      <td>TOYOTA</td>\n",
       "      <td>NaN</td>\n",
       "      <td>NaN</td>\n",
       "      <td>Car Classic</td>\n",
       "      <td>1</td>\n",
       "    </tr>\n",
       "    <tr>\n",
       "      <th>2</th>\n",
       "      <td>ID_005QMC3</td>\n",
       "      <td>2010-03-21</td>\n",
       "      <td>2011-03-20</td>\n",
       "      <td>Male</td>\n",
       "      <td>43</td>\n",
       "      <td>2010-03-21</td>\n",
       "      <td>1</td>\n",
       "      <td>Saloon</td>\n",
       "      <td>Red</td>\n",
       "      <td>TOYOTA</td>\n",
       "      <td>NaN</td>\n",
       "      <td>NaN</td>\n",
       "      <td>Car Classic</td>\n",
       "      <td>0</td>\n",
       "    </tr>\n",
       "    <tr>\n",
       "      <th>3</th>\n",
       "      <td>ID_0079OHW</td>\n",
       "      <td>2010-08-21</td>\n",
       "      <td>2011-08-20</td>\n",
       "      <td>Male</td>\n",
       "      <td>2</td>\n",
       "      <td>2010-08-21</td>\n",
       "      <td>1</td>\n",
       "      <td>NaN</td>\n",
       "      <td>NaN</td>\n",
       "      <td>NaN</td>\n",
       "      <td>NaN</td>\n",
       "      <td>NaN</td>\n",
       "      <td>CarSafe</td>\n",
       "      <td>0</td>\n",
       "    </tr>\n",
       "    <tr>\n",
       "      <th>4</th>\n",
       "      <td>ID_00BRP63</td>\n",
       "      <td>2010-08-29</td>\n",
       "      <td>2010-12-31</td>\n",
       "      <td>Entity</td>\n",
       "      <td>20</td>\n",
       "      <td>2010-08-29</td>\n",
       "      <td>3</td>\n",
       "      <td>NaN</td>\n",
       "      <td>NaN</td>\n",
       "      <td>NaN</td>\n",
       "      <td>Lagos</td>\n",
       "      <td>Lagos</td>\n",
       "      <td>Muuve</td>\n",
       "      <td>1</td>\n",
       "    </tr>\n",
       "  </tbody>\n",
       "</table>\n",
       "</div>"
      ],
      "text/plain": [
       "           ID Policy Start Date Policy End Date  Gender  Age  \\\n",
       "0  ID_0040R73        2010-05-14      2011-05-13    Male   30   \n",
       "1  ID_0046BNK        2010-11-29      2011-11-28  Female   79   \n",
       "2  ID_005QMC3        2010-03-21      2011-03-20    Male   43   \n",
       "3  ID_0079OHW        2010-08-21      2011-08-20    Male    2   \n",
       "4  ID_00BRP63        2010-08-29      2010-12-31  Entity   20   \n",
       "\n",
       "  First Transaction Date  No_Pol Car_Category Subject_Car_Colour  \\\n",
       "0             2010-05-14       1       Saloon              Black   \n",
       "1             2010-11-29       1         JEEP               Grey   \n",
       "2             2010-03-21       1       Saloon                Red   \n",
       "3             2010-08-21       1          NaN                NaN   \n",
       "4             2010-08-29       3          NaN                NaN   \n",
       "\n",
       "  Subject_Car_Make LGA_Name  State  ProductName  target  \n",
       "0           TOYOTA      NaN    NaN  Car Classic       0  \n",
       "1           TOYOTA      NaN    NaN  Car Classic       1  \n",
       "2           TOYOTA      NaN    NaN  Car Classic       0  \n",
       "3              NaN      NaN    NaN      CarSafe       0  \n",
       "4              NaN    Lagos  Lagos        Muuve       1  "
      ]
     },
     "execution_count": 35,
     "metadata": {},
     "output_type": "execute_result"
    }
   ],
   "source": [
    "train_df = pd.read_csv('Datasets\\Train.csv')\n",
    "train_df.head()"
   ]
  },
  {
   "cell_type": "markdown",
   "id": "2d645a49",
   "metadata": {},
   "source": [
    "Fix column data types"
   ]
  },
  {
   "cell_type": "code",
   "execution_count": 36,
   "id": "289a37f4",
   "metadata": {},
   "outputs": [
    {
     "name": "stdout",
     "output_type": "stream",
     "text": [
      "<class 'pandas.core.frame.DataFrame'>\n",
      "RangeIndex: 12079 entries, 0 to 12078\n",
      "Data columns (total 14 columns):\n",
      " #   Column                  Non-Null Count  Dtype         \n",
      "---  ------                  --------------  -----         \n",
      " 0   ID                      12079 non-null  object        \n",
      " 1   Policy Start Date       12079 non-null  datetime64[ns]\n",
      " 2   Policy End Date         12079 non-null  datetime64[ns]\n",
      " 3   Gender                  11720 non-null  category      \n",
      " 4   Age                     12079 non-null  int64         \n",
      " 5   First Transaction Date  12079 non-null  datetime64[ns]\n",
      " 6   No_Pol                  12079 non-null  int64         \n",
      " 7   Car_Category            8341 non-null   category      \n",
      " 8   Subject_Car_Colour      5117 non-null   category      \n",
      " 9   Subject_Car_Make        9603 non-null   category      \n",
      " 10  LGA_Name                5603 non-null   category      \n",
      " 11  State                   5591 non-null   category      \n",
      " 12  ProductName             12079 non-null  category      \n",
      " 13  target                  12079 non-null  int64         \n",
      "dtypes: category(7), datetime64[ns](3), int64(3), object(1)\n",
      "memory usage: 775.5+ KB\n"
     ]
    }
   ],
   "source": [
    "date_cols = ['Policy Start Date', 'Policy End Date', 'First Transaction Date']\n",
    "num_cols = ['Age', 'No_Pol']\n",
    "cat_cols = ['Gender', 'Car_Category', 'Subject_Car_Colour', 'Subject_Car_Make', 'LGA_Name', 'State', 'ProductName']\n",
    "\n",
    "for col in train_df.columns:\n",
    "    if col in date_cols:\n",
    "        train_df[col] = pd.to_datetime(train_df[col])\n",
    "    elif col in cat_cols:\n",
    "        train_df[col] = train_df[col].astype('category')\n",
    "\n",
    "train_df.info()"
   ]
  },
  {
   "cell_type": "markdown",
   "id": "d5b5f2d3",
   "metadata": {},
   "source": [
    "Map Genders to Other category"
   ]
  },
  {
   "cell_type": "code",
   "execution_count": 37,
   "id": "17be5f3f",
   "metadata": {},
   "outputs": [
    {
     "data": {
      "text/plain": [
       "Male      7617\n",
       "Female    3327\n",
       "Other      776\n",
       "NaN        359\n",
       "Name: Gender, dtype: int64"
      ]
     },
     "execution_count": 37,
     "metadata": {},
     "output_type": "execute_result"
    }
   ],
   "source": [
    "mapper = {'Entity': 'Other', 'Joint Gender': 'Other', 'NOT STATED': 'Other', 'NO GENDER': 'Other', 'SEX': 'Other'}\n",
    "train_df['Gender'] = train_df['Gender'].replace(mapper)\n",
    "\n",
    "# Confirm mappings\n",
    "train_df['Gender'].value_counts(dropna=False)"
   ]
  },
  {
   "cell_type": "markdown",
   "id": "68c89f27",
   "metadata": {},
   "source": [
    "Drop date columns for this exercise"
   ]
  },
  {
   "cell_type": "code",
   "execution_count": 38,
   "id": "213aed40",
   "metadata": {},
   "outputs": [
    {
     "data": {
      "text/html": [
       "<div>\n",
       "<style scoped>\n",
       "    .dataframe tbody tr th:only-of-type {\n",
       "        vertical-align: middle;\n",
       "    }\n",
       "\n",
       "    .dataframe tbody tr th {\n",
       "        vertical-align: top;\n",
       "    }\n",
       "\n",
       "    .dataframe thead th {\n",
       "        text-align: right;\n",
       "    }\n",
       "</style>\n",
       "<table border=\"1\" class=\"dataframe\">\n",
       "  <thead>\n",
       "    <tr style=\"text-align: right;\">\n",
       "      <th></th>\n",
       "      <th>Gender</th>\n",
       "      <th>Age</th>\n",
       "      <th>No_Pol</th>\n",
       "      <th>Car_Category</th>\n",
       "      <th>Subject_Car_Colour</th>\n",
       "      <th>Subject_Car_Make</th>\n",
       "      <th>LGA_Name</th>\n",
       "      <th>State</th>\n",
       "      <th>ProductName</th>\n",
       "      <th>target</th>\n",
       "    </tr>\n",
       "    <tr>\n",
       "      <th>ID</th>\n",
       "      <th></th>\n",
       "      <th></th>\n",
       "      <th></th>\n",
       "      <th></th>\n",
       "      <th></th>\n",
       "      <th></th>\n",
       "      <th></th>\n",
       "      <th></th>\n",
       "      <th></th>\n",
       "      <th></th>\n",
       "    </tr>\n",
       "  </thead>\n",
       "  <tbody>\n",
       "    <tr>\n",
       "      <th>ID_0040R73</th>\n",
       "      <td>Male</td>\n",
       "      <td>30</td>\n",
       "      <td>1</td>\n",
       "      <td>Saloon</td>\n",
       "      <td>Black</td>\n",
       "      <td>TOYOTA</td>\n",
       "      <td>NaN</td>\n",
       "      <td>NaN</td>\n",
       "      <td>Car Classic</td>\n",
       "      <td>0</td>\n",
       "    </tr>\n",
       "    <tr>\n",
       "      <th>ID_0046BNK</th>\n",
       "      <td>Female</td>\n",
       "      <td>79</td>\n",
       "      <td>1</td>\n",
       "      <td>JEEP</td>\n",
       "      <td>Grey</td>\n",
       "      <td>TOYOTA</td>\n",
       "      <td>NaN</td>\n",
       "      <td>NaN</td>\n",
       "      <td>Car Classic</td>\n",
       "      <td>1</td>\n",
       "    </tr>\n",
       "    <tr>\n",
       "      <th>ID_005QMC3</th>\n",
       "      <td>Male</td>\n",
       "      <td>43</td>\n",
       "      <td>1</td>\n",
       "      <td>Saloon</td>\n",
       "      <td>Red</td>\n",
       "      <td>TOYOTA</td>\n",
       "      <td>NaN</td>\n",
       "      <td>NaN</td>\n",
       "      <td>Car Classic</td>\n",
       "      <td>0</td>\n",
       "    </tr>\n",
       "    <tr>\n",
       "      <th>ID_0079OHW</th>\n",
       "      <td>Male</td>\n",
       "      <td>2</td>\n",
       "      <td>1</td>\n",
       "      <td>NaN</td>\n",
       "      <td>NaN</td>\n",
       "      <td>NaN</td>\n",
       "      <td>NaN</td>\n",
       "      <td>NaN</td>\n",
       "      <td>CarSafe</td>\n",
       "      <td>0</td>\n",
       "    </tr>\n",
       "    <tr>\n",
       "      <th>ID_00BRP63</th>\n",
       "      <td>Other</td>\n",
       "      <td>20</td>\n",
       "      <td>3</td>\n",
       "      <td>NaN</td>\n",
       "      <td>NaN</td>\n",
       "      <td>NaN</td>\n",
       "      <td>Lagos</td>\n",
       "      <td>Lagos</td>\n",
       "      <td>Muuve</td>\n",
       "      <td>1</td>\n",
       "    </tr>\n",
       "  </tbody>\n",
       "</table>\n",
       "</div>"
      ],
      "text/plain": [
       "            Gender  Age  No_Pol Car_Category Subject_Car_Colour  \\\n",
       "ID                                                                \n",
       "ID_0040R73    Male   30       1       Saloon              Black   \n",
       "ID_0046BNK  Female   79       1         JEEP               Grey   \n",
       "ID_005QMC3    Male   43       1       Saloon                Red   \n",
       "ID_0079OHW    Male    2       1          NaN                NaN   \n",
       "ID_00BRP63   Other   20       3          NaN                NaN   \n",
       "\n",
       "           Subject_Car_Make LGA_Name  State  ProductName  target  \n",
       "ID                                                                \n",
       "ID_0040R73           TOYOTA      NaN    NaN  Car Classic       0  \n",
       "ID_0046BNK           TOYOTA      NaN    NaN  Car Classic       1  \n",
       "ID_005QMC3           TOYOTA      NaN    NaN  Car Classic       0  \n",
       "ID_0079OHW              NaN      NaN    NaN      CarSafe       0  \n",
       "ID_00BRP63              NaN    Lagos  Lagos        Muuve       1  "
      ]
     },
     "execution_count": 38,
     "metadata": {},
     "output_type": "execute_result"
    }
   ],
   "source": [
    "train_df.drop(columns=date_cols, inplace=True)\n",
    "train_df.set_index('ID', inplace=True)\n",
    "train_df.head()"
   ]
  },
  {
   "cell_type": "markdown",
   "id": "f4991688",
   "metadata": {},
   "source": [
    "Separate target variable from data"
   ]
  },
  {
   "cell_type": "code",
   "execution_count": 39,
   "id": "ed806664",
   "metadata": {},
   "outputs": [
    {
     "data": {
      "text/html": [
       "<div>\n",
       "<style scoped>\n",
       "    .dataframe tbody tr th:only-of-type {\n",
       "        vertical-align: middle;\n",
       "    }\n",
       "\n",
       "    .dataframe tbody tr th {\n",
       "        vertical-align: top;\n",
       "    }\n",
       "\n",
       "    .dataframe thead th {\n",
       "        text-align: right;\n",
       "    }\n",
       "</style>\n",
       "<table border=\"1\" class=\"dataframe\">\n",
       "  <thead>\n",
       "    <tr style=\"text-align: right;\">\n",
       "      <th></th>\n",
       "      <th>Gender</th>\n",
       "      <th>Age</th>\n",
       "      <th>No_Pol</th>\n",
       "      <th>Car_Category</th>\n",
       "      <th>Subject_Car_Colour</th>\n",
       "      <th>Subject_Car_Make</th>\n",
       "      <th>LGA_Name</th>\n",
       "      <th>State</th>\n",
       "      <th>ProductName</th>\n",
       "    </tr>\n",
       "    <tr>\n",
       "      <th>ID</th>\n",
       "      <th></th>\n",
       "      <th></th>\n",
       "      <th></th>\n",
       "      <th></th>\n",
       "      <th></th>\n",
       "      <th></th>\n",
       "      <th></th>\n",
       "      <th></th>\n",
       "      <th></th>\n",
       "    </tr>\n",
       "  </thead>\n",
       "  <tbody>\n",
       "    <tr>\n",
       "      <th>ID_0040R73</th>\n",
       "      <td>Male</td>\n",
       "      <td>30</td>\n",
       "      <td>1</td>\n",
       "      <td>Saloon</td>\n",
       "      <td>Black</td>\n",
       "      <td>TOYOTA</td>\n",
       "      <td>NaN</td>\n",
       "      <td>NaN</td>\n",
       "      <td>Car Classic</td>\n",
       "    </tr>\n",
       "    <tr>\n",
       "      <th>ID_0046BNK</th>\n",
       "      <td>Female</td>\n",
       "      <td>79</td>\n",
       "      <td>1</td>\n",
       "      <td>JEEP</td>\n",
       "      <td>Grey</td>\n",
       "      <td>TOYOTA</td>\n",
       "      <td>NaN</td>\n",
       "      <td>NaN</td>\n",
       "      <td>Car Classic</td>\n",
       "    </tr>\n",
       "    <tr>\n",
       "      <th>ID_005QMC3</th>\n",
       "      <td>Male</td>\n",
       "      <td>43</td>\n",
       "      <td>1</td>\n",
       "      <td>Saloon</td>\n",
       "      <td>Red</td>\n",
       "      <td>TOYOTA</td>\n",
       "      <td>NaN</td>\n",
       "      <td>NaN</td>\n",
       "      <td>Car Classic</td>\n",
       "    </tr>\n",
       "    <tr>\n",
       "      <th>ID_0079OHW</th>\n",
       "      <td>Male</td>\n",
       "      <td>2</td>\n",
       "      <td>1</td>\n",
       "      <td>NaN</td>\n",
       "      <td>NaN</td>\n",
       "      <td>NaN</td>\n",
       "      <td>NaN</td>\n",
       "      <td>NaN</td>\n",
       "      <td>CarSafe</td>\n",
       "    </tr>\n",
       "    <tr>\n",
       "      <th>ID_00BRP63</th>\n",
       "      <td>Other</td>\n",
       "      <td>20</td>\n",
       "      <td>3</td>\n",
       "      <td>NaN</td>\n",
       "      <td>NaN</td>\n",
       "      <td>NaN</td>\n",
       "      <td>Lagos</td>\n",
       "      <td>Lagos</td>\n",
       "      <td>Muuve</td>\n",
       "    </tr>\n",
       "  </tbody>\n",
       "</table>\n",
       "</div>"
      ],
      "text/plain": [
       "            Gender  Age  No_Pol Car_Category Subject_Car_Colour  \\\n",
       "ID                                                                \n",
       "ID_0040R73    Male   30       1       Saloon              Black   \n",
       "ID_0046BNK  Female   79       1         JEEP               Grey   \n",
       "ID_005QMC3    Male   43       1       Saloon                Red   \n",
       "ID_0079OHW    Male    2       1          NaN                NaN   \n",
       "ID_00BRP63   Other   20       3          NaN                NaN   \n",
       "\n",
       "           Subject_Car_Make LGA_Name  State  ProductName  \n",
       "ID                                                        \n",
       "ID_0040R73           TOYOTA      NaN    NaN  Car Classic  \n",
       "ID_0046BNK           TOYOTA      NaN    NaN  Car Classic  \n",
       "ID_005QMC3           TOYOTA      NaN    NaN  Car Classic  \n",
       "ID_0079OHW              NaN      NaN    NaN      CarSafe  \n",
       "ID_00BRP63              NaN    Lagos  Lagos        Muuve  "
      ]
     },
     "execution_count": 39,
     "metadata": {},
     "output_type": "execute_result"
    }
   ],
   "source": [
    "y = train_df['target']\n",
    "X = train_df.drop(columns=['target'])\n",
    "X.head()"
   ]
  },
  {
   "cell_type": "markdown",
   "id": "ee38e86d",
   "metadata": {},
   "source": [
    "## Create Preprocessors"
   ]
  },
  {
   "cell_type": "markdown",
   "id": "313a9ee4",
   "metadata": {},
   "source": [
    "Preprocessors for different data types within the same dataset can be created and bundled together"
   ]
  },
  {
   "cell_type": "code",
   "execution_count": 40,
   "id": "01ae95f9",
   "metadata": {},
   "outputs": [],
   "source": [
    "# Create preprocessor for numerical data\n",
    "numerical_transformer = SimpleImputer(strategy='mean')"
   ]
  },
  {
   "cell_type": "markdown",
   "id": "cffdf819",
   "metadata": {},
   "source": [
    "Categorical data can sometimes require multiple steps for preprocessing, eg. Imputation then encoding. Use **Pipeline** to bundle these together. You will essentially be calling a pipeline within a pipeline later when doing the training and testing"
   ]
  },
  {
   "cell_type": "code",
   "execution_count": 41,
   "id": "84e9351b",
   "metadata": {},
   "outputs": [],
   "source": [
    "# Create preprocessor for categorical data\n",
    "categorical_transformer = Pipeline(steps=[('imputer', SimpleImputer(strategy='most_frequent')),\n",
    "                                          ('onehot', OneHotEncoder(handle_unknown='ignore', sparse=False))])"
   ]
  },
  {
   "cell_type": "markdown",
   "id": "67fe06ac",
   "metadata": {},
   "source": [
    "**ColumnTransformer** allows you to bundle each preprocessor together and apply each one only to a specific set of columns that you specify"
   ]
  },
  {
   "cell_type": "code",
   "execution_count": 42,
   "id": "a947f9c6",
   "metadata": {},
   "outputs": [],
   "source": [
    "# Bundle preprocessors for numerical and categorical data\n",
    "preprocessor = ColumnTransformer(transformers=[('num', numerical_transformer, num_cols), \n",
    "                                               ('cat', categorical_transformer, cat_cols)], \n",
    "                                               n_jobs=-1)"
   ]
  },
  {
   "cell_type": "markdown",
   "id": "66945ecc",
   "metadata": {},
   "source": [
    "Normalization is done last as it applies to all preprocessed columns"
   ]
  },
  {
   "cell_type": "code",
   "execution_count": 45,
   "id": "cd75c4db",
   "metadata": {},
   "outputs": [],
   "source": [
    "# Create normalization preprocessor\n",
    "normalization = StandardScaler()"
   ]
  },
  {
   "cell_type": "markdown",
   "id": "9100be5f",
   "metadata": {},
   "source": [
    "Create the model and set parameter values we want to test"
   ]
  },
  {
   "cell_type": "code",
   "execution_count": 46,
   "id": "fc53a6ba",
   "metadata": {},
   "outputs": [],
   "source": [
    "from sklearn.linear_model import LogisticRegression\n",
    "\n",
    "# Have to give the parameter the name of the model in the pipeline + __parameter name\n",
    "# That's how the GridSearchCV will know which estimator to apply it to from 'preprocessor', 'normalization', etc.\n",
    "parameters = {'model__C':[0.01, 0.1, 1, 10, 20, 50, 100]}\n",
    "\n",
    "model = LogisticRegression(n_jobs=-1)"
   ]
  },
  {
   "cell_type": "markdown",
   "id": "f5702717",
   "metadata": {},
   "source": [
    "Create Pipeline with preprocessing, normalization and model"
   ]
  },
  {
   "cell_type": "code",
   "execution_count": 47,
   "id": "aa5c3151",
   "metadata": {},
   "outputs": [],
   "source": [
    "# Bundle preprocessors and modeling code in a pipeline\n",
    "my_pipeline = Pipeline(steps=[('preprocessor', preprocessor), ('normalization', normalization), ('model', model)], \n",
    "                       verbose=True)"
   ]
  },
  {
   "cell_type": "markdown",
   "id": "97a81cc6",
   "metadata": {},
   "source": [
    "## Create classifier using GridSearchCV"
   ]
  },
  {
   "cell_type": "markdown",
   "id": "e5ba308a",
   "metadata": {},
   "source": [
    "The benefit of using GridSearchCV with the Pipeline as the estimator is that it handles Cross Validation as well as allows you to do parameter tuning, while at the same time avoiding data leakage by fitting the preprocessors only on the training set split but using those fit models to transform the test set split separately, ie: not fitting the preprocessors on the test set split"
   ]
  },
  {
   "cell_type": "code",
   "execution_count": 48,
   "id": "e33ebd28",
   "metadata": {},
   "outputs": [],
   "source": [
    "from sklearn.model_selection import GridSearchCV\n",
    "\n",
    "clf = GridSearchCV(estimator=my_pipeline, param_grid=parameters, scoring='f1', n_jobs=-1)"
   ]
  },
  {
   "cell_type": "markdown",
   "id": "8eae86f1",
   "metadata": {},
   "source": [
    "## Train and test the classifier"
   ]
  },
  {
   "cell_type": "markdown",
   "id": "251e9e15",
   "metadata": {},
   "source": [
    "**fit** will accomplish both the training and testing on the relevant training and testing sets"
   ]
  },
  {
   "cell_type": "code",
   "execution_count": 49,
   "id": "d6ee95a5",
   "metadata": {},
   "outputs": [
    {
     "name": "stdout",
     "output_type": "stream",
     "text": [
      "[Pipeline] ...... (step 1 of 3) Processing preprocessor, total=   0.1s\n",
      "[Pipeline] ..... (step 2 of 3) Processing normalization, total=   0.1s\n",
      "[Pipeline] ............. (step 3 of 3) Processing model, total=   5.2s\n"
     ]
    },
    {
     "data": {
      "text/plain": [
       "GridSearchCV(estimator=Pipeline(steps=[('preprocessor',\n",
       "                                        ColumnTransformer(n_jobs=-1,\n",
       "                                                          transformers=[('num',\n",
       "                                                                         SimpleImputer(),\n",
       "                                                                         ['Age',\n",
       "                                                                          'No_Pol']),\n",
       "                                                                        ('cat',\n",
       "                                                                         Pipeline(steps=[('imputer',\n",
       "                                                                                          SimpleImputer(strategy='most_frequent')),\n",
       "                                                                                         ('onehot',\n",
       "                                                                                          OneHotEncoder(handle_unknown='ignore',\n",
       "                                                                                                        sparse=False))]),\n",
       "                                                                         ['Gender',\n",
       "                                                                          'Car_Category',\n",
       "                                                                          'Subject_Car_Colour',\n",
       "                                                                          'Subject_Car_Make',\n",
       "                                                                          'LGA_Name',\n",
       "                                                                          'State',\n",
       "                                                                          'ProductName'])])),\n",
       "                                       ('normalization', StandardScaler()),\n",
       "                                       ('model',\n",
       "                                        LogisticRegression(n_jobs=-1))],\n",
       "                                verbose=True),\n",
       "             n_jobs=-1,\n",
       "             param_grid={'model__C': [0.01, 0.1, 1, 10, 20, 50, 100]},\n",
       "             scoring='f1')"
      ]
     },
     "execution_count": 49,
     "metadata": {},
     "output_type": "execute_result"
    }
   ],
   "source": [
    "clf.fit(X, y)"
   ]
  },
  {
   "cell_type": "markdown",
   "id": "996013e1",
   "metadata": {},
   "source": [
    "## View Results"
   ]
  },
  {
   "cell_type": "code",
   "execution_count": 50,
   "id": "a3643b86",
   "metadata": {},
   "outputs": [
    {
     "data": {
      "text/html": [
       "<div>\n",
       "<style scoped>\n",
       "    .dataframe tbody tr th:only-of-type {\n",
       "        vertical-align: middle;\n",
       "    }\n",
       "\n",
       "    .dataframe tbody tr th {\n",
       "        vertical-align: top;\n",
       "    }\n",
       "\n",
       "    .dataframe thead th {\n",
       "        text-align: right;\n",
       "    }\n",
       "</style>\n",
       "<table border=\"1\" class=\"dataframe\">\n",
       "  <thead>\n",
       "    <tr style=\"text-align: right;\">\n",
       "      <th></th>\n",
       "      <th>mean_fit_time</th>\n",
       "      <th>std_fit_time</th>\n",
       "      <th>mean_score_time</th>\n",
       "      <th>std_score_time</th>\n",
       "      <th>param_model__C</th>\n",
       "      <th>params</th>\n",
       "      <th>split0_test_score</th>\n",
       "      <th>split1_test_score</th>\n",
       "      <th>split2_test_score</th>\n",
       "      <th>split3_test_score</th>\n",
       "      <th>split4_test_score</th>\n",
       "      <th>mean_test_score</th>\n",
       "      <th>std_test_score</th>\n",
       "      <th>rank_test_score</th>\n",
       "    </tr>\n",
       "  </thead>\n",
       "  <tbody>\n",
       "    <tr>\n",
       "      <th>0</th>\n",
       "      <td>2.097440</td>\n",
       "      <td>0.067040</td>\n",
       "      <td>0.156603</td>\n",
       "      <td>0.018038</td>\n",
       "      <td>0.01</td>\n",
       "      <td>{'model__C': 0.01}</td>\n",
       "      <td>0.117318</td>\n",
       "      <td>0.123894</td>\n",
       "      <td>0.135385</td>\n",
       "      <td>0.128834</td>\n",
       "      <td>0.172619</td>\n",
       "      <td>0.135610</td>\n",
       "      <td>0.019429</td>\n",
       "      <td>7</td>\n",
       "    </tr>\n",
       "    <tr>\n",
       "      <th>1</th>\n",
       "      <td>2.930864</td>\n",
       "      <td>0.103889</td>\n",
       "      <td>0.169631</td>\n",
       "      <td>0.038824</td>\n",
       "      <td>0.1</td>\n",
       "      <td>{'model__C': 0.1}</td>\n",
       "      <td>0.121212</td>\n",
       "      <td>0.132184</td>\n",
       "      <td>0.151515</td>\n",
       "      <td>0.126888</td>\n",
       "      <td>0.176991</td>\n",
       "      <td>0.141758</td>\n",
       "      <td>0.020354</td>\n",
       "      <td>6</td>\n",
       "    </tr>\n",
       "    <tr>\n",
       "      <th>2</th>\n",
       "      <td>4.179509</td>\n",
       "      <td>0.162854</td>\n",
       "      <td>0.153841</td>\n",
       "      <td>0.020935</td>\n",
       "      <td>1</td>\n",
       "      <td>{'model__C': 1}</td>\n",
       "      <td>0.121212</td>\n",
       "      <td>0.142450</td>\n",
       "      <td>0.151515</td>\n",
       "      <td>0.126888</td>\n",
       "      <td>0.176991</td>\n",
       "      <td>0.143811</td>\n",
       "      <td>0.019795</td>\n",
       "      <td>4</td>\n",
       "    </tr>\n",
       "    <tr>\n",
       "      <th>3</th>\n",
       "      <td>4.993836</td>\n",
       "      <td>0.193062</td>\n",
       "      <td>0.194853</td>\n",
       "      <td>0.081380</td>\n",
       "      <td>10</td>\n",
       "      <td>{'model__C': 10}</td>\n",
       "      <td>0.121212</td>\n",
       "      <td>0.142045</td>\n",
       "      <td>0.151515</td>\n",
       "      <td>0.126506</td>\n",
       "      <td>0.176991</td>\n",
       "      <td>0.143654</td>\n",
       "      <td>0.019867</td>\n",
       "      <td>5</td>\n",
       "    </tr>\n",
       "    <tr>\n",
       "      <th>4</th>\n",
       "      <td>4.636549</td>\n",
       "      <td>0.765661</td>\n",
       "      <td>0.100982</td>\n",
       "      <td>0.051115</td>\n",
       "      <td>20</td>\n",
       "      <td>{'model__C': 20}</td>\n",
       "      <td>0.126374</td>\n",
       "      <td>0.142045</td>\n",
       "      <td>0.151515</td>\n",
       "      <td>0.132132</td>\n",
       "      <td>0.176991</td>\n",
       "      <td>0.145812</td>\n",
       "      <td>0.017798</td>\n",
       "      <td>1</td>\n",
       "    </tr>\n",
       "    <tr>\n",
       "      <th>5</th>\n",
       "      <td>3.948898</td>\n",
       "      <td>0.285169</td>\n",
       "      <td>0.085959</td>\n",
       "      <td>0.059152</td>\n",
       "      <td>50</td>\n",
       "      <td>{'model__C': 50}</td>\n",
       "      <td>0.126374</td>\n",
       "      <td>0.142045</td>\n",
       "      <td>0.151515</td>\n",
       "      <td>0.132132</td>\n",
       "      <td>0.176991</td>\n",
       "      <td>0.145812</td>\n",
       "      <td>0.017798</td>\n",
       "      <td>1</td>\n",
       "    </tr>\n",
       "    <tr>\n",
       "      <th>6</th>\n",
       "      <td>2.639292</td>\n",
       "      <td>0.888750</td>\n",
       "      <td>0.038583</td>\n",
       "      <td>0.012978</td>\n",
       "      <td>100</td>\n",
       "      <td>{'model__C': 100}</td>\n",
       "      <td>0.126374</td>\n",
       "      <td>0.142045</td>\n",
       "      <td>0.151515</td>\n",
       "      <td>0.132132</td>\n",
       "      <td>0.176991</td>\n",
       "      <td>0.145812</td>\n",
       "      <td>0.017798</td>\n",
       "      <td>1</td>\n",
       "    </tr>\n",
       "  </tbody>\n",
       "</table>\n",
       "</div>"
      ],
      "text/plain": [
       "   mean_fit_time  std_fit_time  mean_score_time  std_score_time  \\\n",
       "0       2.097440      0.067040         0.156603        0.018038   \n",
       "1       2.930864      0.103889         0.169631        0.038824   \n",
       "2       4.179509      0.162854         0.153841        0.020935   \n",
       "3       4.993836      0.193062         0.194853        0.081380   \n",
       "4       4.636549      0.765661         0.100982        0.051115   \n",
       "5       3.948898      0.285169         0.085959        0.059152   \n",
       "6       2.639292      0.888750         0.038583        0.012978   \n",
       "\n",
       "  param_model__C              params  split0_test_score  split1_test_score  \\\n",
       "0           0.01  {'model__C': 0.01}           0.117318           0.123894   \n",
       "1            0.1   {'model__C': 0.1}           0.121212           0.132184   \n",
       "2              1     {'model__C': 1}           0.121212           0.142450   \n",
       "3             10    {'model__C': 10}           0.121212           0.142045   \n",
       "4             20    {'model__C': 20}           0.126374           0.142045   \n",
       "5             50    {'model__C': 50}           0.126374           0.142045   \n",
       "6            100   {'model__C': 100}           0.126374           0.142045   \n",
       "\n",
       "   split2_test_score  split3_test_score  split4_test_score  mean_test_score  \\\n",
       "0           0.135385           0.128834           0.172619         0.135610   \n",
       "1           0.151515           0.126888           0.176991         0.141758   \n",
       "2           0.151515           0.126888           0.176991         0.143811   \n",
       "3           0.151515           0.126506           0.176991         0.143654   \n",
       "4           0.151515           0.132132           0.176991         0.145812   \n",
       "5           0.151515           0.132132           0.176991         0.145812   \n",
       "6           0.151515           0.132132           0.176991         0.145812   \n",
       "\n",
       "   std_test_score  rank_test_score  \n",
       "0        0.019429                7  \n",
       "1        0.020354                6  \n",
       "2        0.019795                4  \n",
       "3        0.019867                5  \n",
       "4        0.017798                1  \n",
       "5        0.017798                1  \n",
       "6        0.017798                1  "
      ]
     },
     "execution_count": 50,
     "metadata": {},
     "output_type": "execute_result"
    }
   ],
   "source": [
    "pd.DataFrame(clf.cv_results_)"
   ]
  },
  {
   "cell_type": "markdown",
   "id": "eef411b8",
   "metadata": {},
   "source": [
    "You can use **clf.best_estimator_** to perform predictions directly. It's basically the one ranked 1 above, with the \"best\" parameter value"
   ]
  },
  {
   "cell_type": "code",
   "execution_count": 52,
   "id": "f0e95e3c",
   "metadata": {},
   "outputs": [
    {
     "data": {
      "text/plain": [
       "Pipeline(steps=[('preprocessor',\n",
       "                 ColumnTransformer(n_jobs=-1,\n",
       "                                   transformers=[('num', SimpleImputer(),\n",
       "                                                  ['Age', 'No_Pol']),\n",
       "                                                 ('cat',\n",
       "                                                  Pipeline(steps=[('imputer',\n",
       "                                                                   SimpleImputer(strategy='most_frequent')),\n",
       "                                                                  ('onehot',\n",
       "                                                                   OneHotEncoder(handle_unknown='ignore',\n",
       "                                                                                 sparse=False))]),\n",
       "                                                  ['Gender', 'Car_Category',\n",
       "                                                   'Subject_Car_Colour',\n",
       "                                                   'Subject_Car_Make',\n",
       "                                                   'LGA_Name', 'State',\n",
       "                                                   'ProductName'])])),\n",
       "                ('normalization', StandardScaler()),\n",
       "                ('model', LogisticRegression(C=20, n_jobs=-1))],\n",
       "         verbose=True)"
      ]
     },
     "execution_count": 52,
     "metadata": {},
     "output_type": "execute_result"
    }
   ],
   "source": [
    "clf.best_estimator_"
   ]
  },
  {
   "cell_type": "code",
   "execution_count": null,
   "id": "6f0ee434",
   "metadata": {},
   "outputs": [],
   "source": []
  }
 ],
 "metadata": {
  "kernelspec": {
   "display_name": "Python 3",
   "language": "python",
   "name": "python3"
  },
  "language_info": {
   "codemirror_mode": {
    "name": "ipython",
    "version": 3
   },
   "file_extension": ".py",
   "mimetype": "text/x-python",
   "name": "python",
   "nbconvert_exporter": "python",
   "pygments_lexer": "ipython3",
   "version": "3.8.8"
  }
 },
 "nbformat": 4,
 "nbformat_minor": 5
}
